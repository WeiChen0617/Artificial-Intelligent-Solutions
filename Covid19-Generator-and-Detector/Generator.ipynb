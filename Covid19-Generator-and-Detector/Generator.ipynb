{
  "nbformat": 4,
  "nbformat_minor": 0,
  "metadata": {
    "colab": {
      "name": "CS551G_Assessment1_Task2_52095454.ipynb",
      "provenance": [],
      "collapsed_sections": []
    },
    "kernelspec": {
      "name": "python3",
      "display_name": "Python 3"
    },
    "language_info": {
      "name": "python"
    },
    "accelerator": "GPU"
  },
  "cells": [
    {
      "cell_type": "markdown",
      "metadata": {
        "id": "SWRwyBCXWq8f"
      },
      "source": [
        "# **Subtask 1.1**"
      ]
    },
    {
      "cell_type": "code",
      "metadata": {
        "id": "f8pre_11Hjcb",
        "colab": {
          "base_uri": "https://localhost:8080/"
        },
        "outputId": "6391a6d7-8bec-4054-829c-e720c6472d88"
      },
      "source": [
        "from google.colab import drive\n",
        "import os\n",
        "import cv2 \n",
        "import numpy as np\n",
        "drive.mount('/content/drive')\n",
        "os.chdir('/content/drive/MyDrive')\n",
        "path_covid_data='DMV_Assess_1_Covid-19_Dataset/Covid-19'\n",
        "path_normal_data='DMV_Assess_1_Covid-19_Dataset/Normal'\n",
        "image_dir='mixed_images'\n",
        "covid_names = os.listdir(path_covid_data)\n",
        "normal_names = os.listdir(path_normal_data)\n",
        "size = (512, 512)"
      ],
      "execution_count": null,
      "outputs": [
        {
          "output_type": "stream",
          "text": [
            "Drive already mounted at /content/drive; to attempt to forcibly remount, call drive.mount(\"/content/drive\", force_remount=True).\n"
          ],
          "name": "stdout"
        }
      ]
    },
    {
      "cell_type": "code",
      "metadata": {
        "id": "9FgRSM6c-is7"
      },
      "source": [
        "if not os.path.exists(image_dir):\n",
        "  os.mkdir(image_dir)\n",
        "for i in range(len(covid_names)):\n",
        "    img = cv2.imread(path_covid_data+'/'+covid_names[i])\n",
        "    img_resized = cv2.resize(img, size)\n",
        "    img_gray = np.dot(img_resized, [0.299, 0.587, 0.114])\n",
        "    cv2.waitKey()\n",
        "    cv2.imwrite(image_dir+'/Covid19_'+ str(i) +'.png', img_gray)\n",
        "for i in range(len(normal_names)):\n",
        "    img = cv2.imread(path_normal_data+'/'+normal_names[i])\n",
        "    img_resized = cv2.resize(img, size)\n",
        "    img_gray = np.dot(img_resized, [0.299, 0.587, 0.114])\n",
        "    cv2.waitKey()\n",
        "    cv2.imwrite(image_dir+'/Normal_'+ str(i) +'.png', img_gray)"
      ],
      "execution_count": null,
      "outputs": []
    },
    {
      "cell_type": "code",
      "metadata": {
        "id": "19xxSLcKBpr-"
      },
      "source": [
        "import pandas as pd\n",
        "filenames = os.listdir(image_dir)\n",
        "categories = []\n",
        "for filename in filenames:\n",
        "    if filename.split('_')[0] == 'Normal':\n",
        "        categories.append('Normal')\n",
        "    else:\n",
        "        categories.append('Covid19')\n",
        "\n",
        "df = pd.DataFrame({\n",
        "    'filename': filenames,\n",
        "    'category': categories\n",
        "})\n"
      ],
      "execution_count": null,
      "outputs": []
    },
    {
      "cell_type": "code",
      "metadata": {
        "colab": {
          "base_uri": "https://localhost:8080/",
          "height": 406
        },
        "id": "MXGXgSFgCput",
        "outputId": "12bfb38e-c51c-4003-98df-da53880d6589"
      },
      "source": [
        "df"
      ],
      "execution_count": null,
      "outputs": [
        {
          "output_type": "execute_result",
          "data": {
            "text/html": [
              "<div>\n",
              "<style scoped>\n",
              "    .dataframe tbody tr th:only-of-type {\n",
              "        vertical-align: middle;\n",
              "    }\n",
              "\n",
              "    .dataframe tbody tr th {\n",
              "        vertical-align: top;\n",
              "    }\n",
              "\n",
              "    .dataframe thead th {\n",
              "        text-align: right;\n",
              "    }\n",
              "</style>\n",
              "<table border=\"1\" class=\"dataframe\">\n",
              "  <thead>\n",
              "    <tr style=\"text-align: right;\">\n",
              "      <th></th>\n",
              "      <th>filename</th>\n",
              "      <th>category</th>\n",
              "    </tr>\n",
              "  </thead>\n",
              "  <tbody>\n",
              "    <tr>\n",
              "      <th>0</th>\n",
              "      <td>Covid_0.png</td>\n",
              "      <td>Covid19</td>\n",
              "    </tr>\n",
              "    <tr>\n",
              "      <th>1</th>\n",
              "      <td>Covid_9.png</td>\n",
              "      <td>Covid19</td>\n",
              "    </tr>\n",
              "    <tr>\n",
              "      <th>2</th>\n",
              "      <td>Covid_4.png</td>\n",
              "      <td>Covid19</td>\n",
              "    </tr>\n",
              "    <tr>\n",
              "      <th>3</th>\n",
              "      <td>Covid_2.png</td>\n",
              "      <td>Covid19</td>\n",
              "    </tr>\n",
              "    <tr>\n",
              "      <th>4</th>\n",
              "      <td>Covid_10.png</td>\n",
              "      <td>Covid19</td>\n",
              "    </tr>\n",
              "    <tr>\n",
              "      <th>...</th>\n",
              "      <td>...</td>\n",
              "      <td>...</td>\n",
              "    </tr>\n",
              "    <tr>\n",
              "      <th>295</th>\n",
              "      <td>Covid19_95.png</td>\n",
              "      <td>Covid19</td>\n",
              "    </tr>\n",
              "    <tr>\n",
              "      <th>296</th>\n",
              "      <td>Covid19_96.png</td>\n",
              "      <td>Covid19</td>\n",
              "    </tr>\n",
              "    <tr>\n",
              "      <th>297</th>\n",
              "      <td>Covid19_97.png</td>\n",
              "      <td>Covid19</td>\n",
              "    </tr>\n",
              "    <tr>\n",
              "      <th>298</th>\n",
              "      <td>Covid19_98.png</td>\n",
              "      <td>Covid19</td>\n",
              "    </tr>\n",
              "    <tr>\n",
              "      <th>299</th>\n",
              "      <td>Covid19_99.png</td>\n",
              "      <td>Covid19</td>\n",
              "    </tr>\n",
              "  </tbody>\n",
              "</table>\n",
              "<p>300 rows × 2 columns</p>\n",
              "</div>"
            ],
            "text/plain": [
              "           filename category\n",
              "0       Covid_0.png  Covid19\n",
              "1       Covid_9.png  Covid19\n",
              "2       Covid_4.png  Covid19\n",
              "3       Covid_2.png  Covid19\n",
              "4      Covid_10.png  Covid19\n",
              "..              ...      ...\n",
              "295  Covid19_95.png  Covid19\n",
              "296  Covid19_96.png  Covid19\n",
              "297  Covid19_97.png  Covid19\n",
              "298  Covid19_98.png  Covid19\n",
              "299  Covid19_99.png  Covid19\n",
              "\n",
              "[300 rows x 2 columns]"
            ]
          },
          "metadata": {
            "tags": []
          },
          "execution_count": 48
        }
      ]
    },
    {
      "cell_type": "code",
      "metadata": {
        "id": "GMQ_6RQOCxfX"
      },
      "source": [
        "train_data= pd.concat([df[0:80],df[100:180]])\n",
        "test_data= pd.concat([df[80:100],df[180:200]])"
      ],
      "execution_count": null,
      "outputs": []
    },
    {
      "cell_type": "code",
      "metadata": {
        "id": "uHaTPlzzDIpR"
      },
      "source": [
        "from tensorflow.keras.models import Sequential\n",
        "from tensorflow.keras.applications.resnet50 import ResNet50\n",
        "from tensorflow.keras.layers import Flatten, Dense\n",
        "model = Sequential()\n",
        "model.add(ResNet50(include_top = False, weights='imagenet', pooling = 'avg'))\n",
        "model.add(Flatten())\n",
        "model.add(Dense(2, activation = 'softmax'))\n",
        "model.layers[0].trainable = False\n",
        "model.compile(loss='categorical_crossentropy', optimizer='adam', metrics=['accuracy'])"
      ],
      "execution_count": null,
      "outputs": []
    },
    {
      "cell_type": "code",
      "metadata": {
        "colab": {
          "base_uri": "https://localhost:8080/"
        },
        "id": "0XYNkKZvDWJs",
        "outputId": "2350b3b7-96eb-46eb-e8d3-ebfc655ed0b4"
      },
      "source": [
        "from keras.preprocessing.image import ImageDataGenerator, load_img\n",
        "train_gen = ImageDataGenerator(rescale=1./255)\n",
        "train_generator = train_gen.flow_from_dataframe(\n",
        "    train_data, \n",
        "    image_dir,\n",
        "    x_col='filename',\n",
        "    y_col='category',\n",
        "    target_size=(size[0], size[1]),\n",
        "    class_mode='categorical',\n",
        "    batch_size=20\n",
        ")"
      ],
      "execution_count": null,
      "outputs": [
        {
          "output_type": "stream",
          "text": [
            "Found 160 validated image filenames belonging to 2 classes.\n"
          ],
          "name": "stdout"
        }
      ]
    },
    {
      "cell_type": "code",
      "metadata": {
        "id": "qUdkJFOKHC5b",
        "colab": {
          "base_uri": "https://localhost:8080/"
        },
        "outputId": "b278e465-e966-4990-a6c2-d83324af8c1d"
      },
      "source": [
        "history = model.fit(train_generator, epochs=30,steps_per_epoch=train_data.shape[0]/20,)"
      ],
      "execution_count": null,
      "outputs": [
        {
          "output_type": "stream",
          "text": [
            "Epoch 1/30\n",
            "8/8 [==============================] - 5s 338ms/step - loss: 1.6127 - accuracy: 0.4208\n",
            "Epoch 2/30\n",
            "8/8 [==============================] - 3s 344ms/step - loss: 0.7858 - accuracy: 0.4671\n",
            "Epoch 3/30\n",
            "8/8 [==============================] - 3s 351ms/step - loss: 0.7675 - accuracy: 0.4219\n",
            "Epoch 4/30\n",
            "8/8 [==============================] - 3s 350ms/step - loss: 0.7462 - accuracy: 0.4899\n",
            "Epoch 5/30\n",
            "8/8 [==============================] - 3s 354ms/step - loss: 0.7447 - accuracy: 0.6144\n",
            "Epoch 6/30\n",
            "8/8 [==============================] - 3s 353ms/step - loss: 0.7375 - accuracy: 0.4801\n",
            "Epoch 7/30\n",
            "8/8 [==============================] - 3s 352ms/step - loss: 0.6925 - accuracy: 0.5681\n",
            "Epoch 8/30\n",
            "8/8 [==============================] - 3s 347ms/step - loss: 0.6559 - accuracy: 0.6951\n",
            "Epoch 9/30\n",
            "8/8 [==============================] - 3s 340ms/step - loss: 0.6748 - accuracy: 0.5007\n",
            "Epoch 10/30\n",
            "8/8 [==============================] - 3s 341ms/step - loss: 0.6455 - accuracy: 0.6171\n",
            "Epoch 11/30\n",
            "8/8 [==============================] - 3s 340ms/step - loss: 0.7045 - accuracy: 0.4993\n",
            "Epoch 12/30\n",
            "8/8 [==============================] - 3s 334ms/step - loss: 0.6640 - accuracy: 0.5686\n",
            "Epoch 13/30\n",
            "8/8 [==============================] - 3s 336ms/step - loss: 0.7104 - accuracy: 0.5280\n",
            "Epoch 14/30\n",
            "8/8 [==============================] - 3s 333ms/step - loss: 0.7012 - accuracy: 0.5420\n",
            "Epoch 15/30\n",
            "8/8 [==============================] - 3s 332ms/step - loss: 0.6747 - accuracy: 0.5396\n",
            "Epoch 16/30\n",
            "8/8 [==============================] - 3s 336ms/step - loss: 0.6493 - accuracy: 0.5487\n",
            "Epoch 17/30\n",
            "8/8 [==============================] - 3s 333ms/step - loss: 0.6490 - accuracy: 0.5512\n",
            "Epoch 18/30\n",
            "8/8 [==============================] - 3s 332ms/step - loss: 0.6404 - accuracy: 0.5796\n",
            "Epoch 19/30\n",
            "8/8 [==============================] - 3s 332ms/step - loss: 0.6075 - accuracy: 0.8369\n",
            "Epoch 20/30\n",
            "8/8 [==============================] - 3s 331ms/step - loss: 0.6027 - accuracy: 0.7392\n",
            "Epoch 21/30\n",
            "8/8 [==============================] - 3s 329ms/step - loss: 0.6125 - accuracy: 0.6399\n",
            "Epoch 22/30\n",
            "8/8 [==============================] - 3s 331ms/step - loss: 0.5813 - accuracy: 0.9242\n",
            "Epoch 23/30\n",
            "8/8 [==============================] - 3s 332ms/step - loss: 0.5733 - accuracy: 0.8068\n",
            "Epoch 24/30\n",
            "8/8 [==============================] - 3s 335ms/step - loss: 0.5803 - accuracy: 0.8604\n",
            "Epoch 25/30\n",
            "8/8 [==============================] - 3s 332ms/step - loss: 0.5611 - accuracy: 0.9574\n",
            "Epoch 26/30\n",
            "8/8 [==============================] - 3s 331ms/step - loss: 0.5653 - accuracy: 0.8238\n",
            "Epoch 27/30\n",
            "8/8 [==============================] - 3s 336ms/step - loss: 0.5677 - accuracy: 0.6281\n",
            "Epoch 28/30\n",
            "8/8 [==============================] - 3s 336ms/step - loss: 0.5876 - accuracy: 0.5587\n",
            "Epoch 29/30\n",
            "8/8 [==============================] - 3s 332ms/step - loss: 0.6688 - accuracy: 0.5615\n",
            "Epoch 30/30\n",
            "8/8 [==============================] - 3s 340ms/step - loss: 0.6557 - accuracy: 0.5877\n"
          ],
          "name": "stdout"
        }
      ]
    },
    {
      "cell_type": "code",
      "metadata": {
        "id": "eREo1hcWTRZR",
        "colab": {
          "base_uri": "https://localhost:8080/",
          "height": 441
        },
        "outputId": "785f7d2f-262a-4a59-f7b3-cf05486a8b96"
      },
      "source": [
        "import matplotlib.pyplot as plt\n",
        "def plot_model_history(model_history, acc='accuracy'):\n",
        "    fig, axs = plt.subplots(1,2,figsize=(15,5))\n",
        "    axs[0].plot(range(1,len(model_history.history[acc])+1),model_history.history[acc])\n",
        "    axs[0].set_title('Model Accuracy')\n",
        "    axs[0].set_ylabel('Accuracy')\n",
        "    axs[0].set_xlabel('Epoch')\n",
        "    axs[0].set_xticks(np.arange(1,len(model_history.history[acc])+1),len(model_history.history[acc])/10)\n",
        "    axs[0].legend(['train'], loc='best')\n",
        "    axs[1].plot(range(1,len(model_history.history['loss'])+1),model_history.history['loss'])\n",
        "    axs[1].set_title('Model Loss')\n",
        "    axs[1].set_ylabel('Loss')\n",
        "    axs[1].set_xlabel('Epoch')\n",
        "    axs[1].set_xticks(np.arange(1,len(model_history.history['loss'])+1),len(model_history.history['loss'])/10)\n",
        "    axs[1].legend(['Training'], loc='best')\n",
        "    plt.show()\n",
        "plot_model_history(history)"
      ],
      "execution_count": null,
      "outputs": [
        {
          "output_type": "stream",
          "text": [
            "/usr/local/lib/python3.7/dist-packages/ipykernel_launcher.py:8: MatplotlibDeprecationWarning: Passing the minor parameter of set_xticks() positionally is deprecated since Matplotlib 3.2; the parameter will become keyword-only two minor releases later.\n",
            "  \n",
            "/usr/local/lib/python3.7/dist-packages/ipykernel_launcher.py:14: MatplotlibDeprecationWarning: Passing the minor parameter of set_xticks() positionally is deprecated since Matplotlib 3.2; the parameter will become keyword-only two minor releases later.\n",
            "  \n"
          ],
          "name": "stderr"
        },
        {
          "output_type": "display_data",
          "data": {
            "image/png": "[encoded data removed]",
            "text/plain": [
              "<Figure size 1080x360 with 2 Axes>"
            ]
          },
          "metadata": {
            "tags": [],
            "needs_background": "light"
          }
        }
      ]
    },
    {
      "cell_type": "code",
      "metadata": {
        "id": "GPjaNbkTEIsj",
        "colab": {
          "base_uri": "https://localhost:8080/"
        },
        "outputId": "eca62849-8d95-415d-a165-f5ba19fb41bf"
      },
      "source": [
        "test_gen = ImageDataGenerator(rescale=1./255)\n",
        "test_generator = test_gen.flow_from_dataframe(\n",
        "    test_data, \n",
        "    image_dir,\n",
        "    x_col='filename',\n",
        "    y_col=None,\n",
        "    class_mode=None,\n",
        "    target_size=(size[0], size[1]),\n",
        "    batch_size=4,\n",
        "    shuffle=False\n",
        ")"
      ],
      "execution_count": null,
      "outputs": [
        {
          "output_type": "stream",
          "text": [
            "Found 40 validated image filenames.\n"
          ],
          "name": "stdout"
        }
      ]
    },
    {
      "cell_type": "code",
      "metadata": {
        "id": "I1kPFvCmEiZY"
      },
      "source": [
        "predict = model.predict(test_generator, steps=np.ceil(test_data.shape[0]/4))\n",
        "predict_round=np.round(predict)\n",
        "# print(predict_round)"
      ],
      "execution_count": null,
      "outputs": []
    },
    {
      "cell_type": "code",
      "metadata": {
        "id": "GCaFtwoYFlrD",
        "colab": {
          "base_uri": "https://localhost:8080/"
        },
        "outputId": "88fb396b-d605-48ce-eced-8f2ac577e4e3"
      },
      "source": [
        "test_data = test_data.replace('Covid19', 0).replace('Normal', 1) \n",
        "labels = ['Normal','Covid19']\n",
        "from sklearn.metrics import classification_report\n",
        "print(classification_report(y_true=test_data.category, y_pred=predict_round[:,[1]],target_names=labels))"
      ],
      "execution_count": null,
      "outputs": [
        {
          "output_type": "stream",
          "text": [
            "              precision    recall  f1-score   support\n",
            "\n",
            "      Normal       0.00      0.00      0.00        20\n",
            "     Covid19       0.50      1.00      0.67        20\n",
            "\n",
            "    accuracy                           0.50        40\n",
            "   macro avg       0.25      0.50      0.33        40\n",
            "weighted avg       0.25      0.50      0.33        40\n",
            "\n"
          ],
          "name": "stdout"
        },
        {
          "output_type": "stream",
          "text": [
            "/usr/local/lib/python3.7/dist-packages/sklearn/metrics/_classification.py:1272: UndefinedMetricWarning: Precision and F-score are ill-defined and being set to 0.0 in labels with no predicted samples. Use `zero_division` parameter to control this behavior.\n",
            "  _warn_prf(average, modifier, msg_start, len(result))\n"
          ],
          "name": "stderr"
        }
      ]
    },
    {
      "cell_type": "code",
      "metadata": {
        "id": "fivitYxnGEJP",
        "colab": {
          "base_uri": "https://localhost:8080/",
          "height": 414
        },
        "outputId": "af33aeb5-2f34-4605-9d7a-d11113b5c194"
      },
      "source": [
        "from sklearn.metrics import confusion_matrix\n",
        "import matplotlib.pyplot as plt\n",
        "import seaborn as sns\n",
        "cm= confusion_matrix(y_true=test_data.category, y_pred=predict_round[:,[1]])\n",
        "plt.figure(figsize=(10, 6))\n",
        "sns.heatmap(cm, annot=True, linewidths=0.05, fmt= '.1f',xticklabels=labels, yticklabels=labels)\n",
        "plt.title(\"Confusion Matrix\", fontsize = 20)\n",
        "plt.ylabel(\"Real\",fontsize = 15)\n",
        "plt.xlabel(\"Predicted\",fontsize = 15)\n",
        "plt.tick_params(labelsize = 10)\n",
        "plt.show()"
      ],
      "execution_count": null,
      "outputs": [
        {
          "output_type": "display_data",
          "data": {
            "image/png": "[encoded data removed]",
            "text/plain": [
              "<Figure size 720x432 with 2 Axes>"
            ]
          },
          "metadata": {
            "tags": [],
            "needs_background": "light"
          }
        }
      ]
    },
    {
      "cell_type": "markdown",
      "metadata": {
        "id": "WANl-VKgWlqi"
      },
      "source": [
        "# **Subtask 1.2**"
      ]
    },
    {
      "cell_type": "code",
      "metadata": {
        "id": "SOBZEgt2W2Q9"
      },
      "source": [
        "path_covid_data='DMV_Assess_1_Covid-19_Dataset/Covid-19'\n",
        "path_normal_data='DMV_Assess_1_Covid-19_Dataset/Normal'\n",
        "path_synthetic_data='LR0.0005_BS128_EP20000'\n",
        "imageset_dir='mixed_three_images'\n",
        "covid_names = os.listdir(path_covid_data)\n",
        "normal_names = os.listdir(path_normal_data)\n",
        "synthetic_names= os.listdir(path_synthetic_data)\n",
        "size = (512, 512)\n",
        "if not os.path.exists(imageset_dir):\n",
        "  os.mkdir(imageset_dir)\n",
        "for i in range(50):\n",
        "    img = cv2.imread(path_covid_data+'/'+covid_names[i])\n",
        "    img_resized = cv2.resize(img, size)\n",
        "    img_gray = np.dot(img_resized, [0.299, 0.587, 0.114])\n",
        "    cv2.waitKey()\n",
        "    cv2.imwrite(imageset_dir+'/Covid19_'+ str(i) +'.png', img_gray)\n",
        "for i in range(50):\n",
        "    img = cv2.imread(path_synthetic_data+'/'+synthetic_names[i+15])\n",
        "    img_resized = cv2.resize(img, size)\n",
        "    img_gray = np.dot(img_resized, [0.299, 0.587, 0.114])\n",
        "    cv2.waitKey()\n",
        "    cv2.imwrite(imageset_dir+'/Synthetic_'+ str(i) +'.png', img_resized)\n",
        "for i in range(100):\n",
        "    img = cv2.imread(path_normal_data+'/'+normal_names[i])\n",
        "    img_resized = cv2.resize(img, size)\n",
        "    img_gray = np.dot(img_resized, [0.299, 0.587, 0.114])\n",
        "    cv2.waitKey()\n",
        "    cv2.imwrite(imageset_dir+'/Normal_'+ str(i) +'.png', img_gray)"
      ],
      "execution_count": null,
      "outputs": []
    },
    {
      "cell_type": "code",
      "metadata": {
        "id": "-a0iC3AuZHWW"
      },
      "source": [
        "filenames = os.listdir(imageset_dir)\n",
        "categories = []\n",
        "for filename in filenames:\n",
        "    category = filename.split('_')[0]\n",
        "    if category == 'Normal':\n",
        "        categories.append('Normal')\n",
        "    else:\n",
        "        categories.append('Covid19')\n",
        "\n",
        "df = pd.DataFrame({\n",
        "    'filename': filenames,\n",
        "    'category': categories\n",
        "})"
      ],
      "execution_count": null,
      "outputs": []
    },
    {
      "cell_type": "code",
      "metadata": {
        "id": "u1xNqPtbZhoK",
        "colab": {
          "base_uri": "https://localhost:8080/",
          "height": 406
        },
        "outputId": "e5aecbc2-46fe-4b2d-b639-6ec75b22e550"
      },
      "source": [
        "df"
      ],
      "execution_count": null,
      "outputs": [
        {
          "output_type": "execute_result",
          "data": {
            "text/html": [
              "<div>\n",
              "<style scoped>\n",
              "    .dataframe tbody tr th:only-of-type {\n",
              "        vertical-align: middle;\n",
              "    }\n",
              "\n",
              "    .dataframe tbody tr th {\n",
              "        vertical-align: top;\n",
              "    }\n",
              "\n",
              "    .dataframe thead th {\n",
              "        text-align: right;\n",
              "    }\n",
              "</style>\n",
              "<table border=\"1\" class=\"dataframe\">\n",
              "  <thead>\n",
              "    <tr style=\"text-align: right;\">\n",
              "      <th></th>\n",
              "      <th>filename</th>\n",
              "      <th>category</th>\n",
              "    </tr>\n",
              "  </thead>\n",
              "  <tbody>\n",
              "    <tr>\n",
              "      <th>0</th>\n",
              "      <td>Covid19_0.png</td>\n",
              "      <td>Covid19</td>\n",
              "    </tr>\n",
              "    <tr>\n",
              "      <th>1</th>\n",
              "      <td>Covid19_1.png</td>\n",
              "      <td>Covid19</td>\n",
              "    </tr>\n",
              "    <tr>\n",
              "      <th>2</th>\n",
              "      <td>Covid19_2.png</td>\n",
              "      <td>Covid19</td>\n",
              "    </tr>\n",
              "    <tr>\n",
              "      <th>3</th>\n",
              "      <td>Covid19_3.png</td>\n",
              "      <td>Covid19</td>\n",
              "    </tr>\n",
              "    <tr>\n",
              "      <th>4</th>\n",
              "      <td>Covid19_4.png</td>\n",
              "      <td>Covid19</td>\n",
              "    </tr>\n",
              "    <tr>\n",
              "      <th>...</th>\n",
              "      <td>...</td>\n",
              "      <td>...</td>\n",
              "    </tr>\n",
              "    <tr>\n",
              "      <th>195</th>\n",
              "      <td>Normal_95.png</td>\n",
              "      <td>Normal</td>\n",
              "    </tr>\n",
              "    <tr>\n",
              "      <th>196</th>\n",
              "      <td>Normal_96.png</td>\n",
              "      <td>Normal</td>\n",
              "    </tr>\n",
              "    <tr>\n",
              "      <th>197</th>\n",
              "      <td>Normal_97.png</td>\n",
              "      <td>Normal</td>\n",
              "    </tr>\n",
              "    <tr>\n",
              "      <th>198</th>\n",
              "      <td>Normal_98.png</td>\n",
              "      <td>Normal</td>\n",
              "    </tr>\n",
              "    <tr>\n",
              "      <th>199</th>\n",
              "      <td>Normal_99.png</td>\n",
              "      <td>Normal</td>\n",
              "    </tr>\n",
              "  </tbody>\n",
              "</table>\n",
              "<p>200 rows × 2 columns</p>\n",
              "</div>"
            ],
            "text/plain": [
              "          filename category\n",
              "0    Covid19_0.png  Covid19\n",
              "1    Covid19_1.png  Covid19\n",
              "2    Covid19_2.png  Covid19\n",
              "3    Covid19_3.png  Covid19\n",
              "4    Covid19_4.png  Covid19\n",
              "..             ...      ...\n",
              "195  Normal_95.png   Normal\n",
              "196  Normal_96.png   Normal\n",
              "197  Normal_97.png   Normal\n",
              "198  Normal_98.png   Normal\n",
              "199  Normal_99.png   Normal\n",
              "\n",
              "[200 rows x 2 columns]"
            ]
          },
          "metadata": {
            "tags": []
          },
          "execution_count": 60
        }
      ]
    },
    {
      "cell_type": "code",
      "metadata": {
        "id": "dv9FcIuAZnPY"
      },
      "source": [
        "train_data= pd.concat([df[0:40],df[50:90],df[100:180]])\n",
        "test_data= pd.concat([df[40:50],df[90:100],df[180:200]])"
      ],
      "execution_count": null,
      "outputs": []
    },
    {
      "cell_type": "code",
      "metadata": {
        "id": "bsZPHw7tacid",
        "colab": {
          "base_uri": "https://localhost:8080/"
        },
        "outputId": "6251f664-89c9-4cb1-8bc4-3af93c9c7909"
      },
      "source": [
        "train_gen = ImageDataGenerator(rescale=1./255)\n",
        "train_generator = train_gen.flow_from_dataframe(\n",
        "    train_data, \n",
        "    imageset_dir,\n",
        "    x_col='filename',\n",
        "    y_col='category',\n",
        "    target_size=(size[0], size[1]),\n",
        "    class_mode='categorical',\n",
        "    batch_size=20\n",
        ")\n",
        "\n",
        "history = model.fit(\n",
        "    train_generator, \n",
        "    epochs=30,\n",
        "    steps_per_epoch=train_data.shape[0]/20,\n",
        ")"
      ],
      "execution_count": null,
      "outputs": [
        {
          "output_type": "stream",
          "text": [
            "Found 160 validated image filenames belonging to 2 classes.\n",
            "Epoch 1/30\n",
            "8/8 [==============================] - 3s 331ms/step - loss: 0.5886 - accuracy: 0.6625\n",
            "Epoch 2/30\n",
            "8/8 [==============================] - 3s 335ms/step - loss: 0.5764 - accuracy: 0.7125\n",
            "Epoch 3/30\n",
            "8/8 [==============================] - 3s 336ms/step - loss: 0.5386 - accuracy: 0.8750\n",
            "Epoch 4/30\n",
            "8/8 [==============================] - 3s 340ms/step - loss: 0.5387 - accuracy: 0.8313\n",
            "Epoch 5/30\n",
            "8/8 [==============================] - 3s 340ms/step - loss: 0.5165 - accuracy: 0.8250\n",
            "Epoch 6/30\n",
            "8/8 [==============================] - 3s 353ms/step - loss: 0.4975 - accuracy: 0.8313\n",
            "Epoch 7/30\n",
            "8/8 [==============================] - 3s 348ms/step - loss: 0.4844 - accuracy: 0.8500\n",
            "Epoch 8/30\n",
            "8/8 [==============================] - 3s 352ms/step - loss: 0.4653 - accuracy: 0.8687\n",
            "Epoch 9/30\n",
            "8/8 [==============================] - 3s 353ms/step - loss: 0.4552 - accuracy: 0.8813\n",
            "Epoch 10/30\n",
            "8/8 [==============================] - 3s 352ms/step - loss: 0.4515 - accuracy: 0.9062\n",
            "Epoch 11/30\n",
            "8/8 [==============================] - 3s 346ms/step - loss: 0.4407 - accuracy: 0.9000\n",
            "Epoch 12/30\n",
            "8/8 [==============================] - 3s 348ms/step - loss: 0.4279 - accuracy: 0.9625\n",
            "Epoch 13/30\n",
            "8/8 [==============================] - 3s 345ms/step - loss: 0.4196 - accuracy: 0.9312\n",
            "Epoch 14/30\n",
            "8/8 [==============================] - 3s 339ms/step - loss: 0.4173 - accuracy: 0.9250\n",
            "Epoch 15/30\n",
            "8/8 [==============================] - 3s 338ms/step - loss: 0.4141 - accuracy: 0.9438\n",
            "Epoch 16/30\n",
            "8/8 [==============================] - 3s 337ms/step - loss: 0.4119 - accuracy: 0.8625\n",
            "Epoch 17/30\n",
            "8/8 [==============================] - 3s 337ms/step - loss: 0.4158 - accuracy: 0.8687\n",
            "Epoch 18/30\n",
            "8/8 [==============================] - 3s 335ms/step - loss: 0.4347 - accuracy: 0.8313\n",
            "Epoch 19/30\n",
            "8/8 [==============================] - 3s 333ms/step - loss: 0.4126 - accuracy: 0.8250\n",
            "Epoch 20/30\n",
            "8/8 [==============================] - 3s 331ms/step - loss: 0.4134 - accuracy: 0.8687\n",
            "Epoch 21/30\n",
            "8/8 [==============================] - 3s 332ms/step - loss: 0.3925 - accuracy: 0.8938\n",
            "Epoch 22/30\n",
            "8/8 [==============================] - 3s 331ms/step - loss: 0.3923 - accuracy: 0.8438\n",
            "Epoch 23/30\n",
            "8/8 [==============================] - 3s 332ms/step - loss: 0.3777 - accuracy: 0.9125\n",
            "Epoch 24/30\n",
            "8/8 [==============================] - 3s 335ms/step - loss: 0.3777 - accuracy: 0.9125\n",
            "Epoch 25/30\n",
            "8/8 [==============================] - 3s 330ms/step - loss: 0.3727 - accuracy: 0.8813\n",
            "Epoch 26/30\n",
            "8/8 [==============================] - 3s 335ms/step - loss: 0.3681 - accuracy: 0.9438\n",
            "Epoch 27/30\n",
            "8/8 [==============================] - 3s 331ms/step - loss: 0.3604 - accuracy: 0.9500\n",
            "Epoch 28/30\n",
            "8/8 [==============================] - 3s 327ms/step - loss: 0.3520 - accuracy: 0.8687\n",
            "Epoch 29/30\n",
            "8/8 [==============================] - 3s 332ms/step - loss: 0.3602 - accuracy: 0.9250\n",
            "Epoch 30/30\n",
            "8/8 [==============================] - 3s 332ms/step - loss: 0.3552 - accuracy: 0.9000\n"
          ],
          "name": "stdout"
        }
      ]
    },
    {
      "cell_type": "code",
      "metadata": {
        "id": "X_JzP4gMaijU",
        "colab": {
          "base_uri": "https://localhost:8080/",
          "height": 441
        },
        "outputId": "136e87f7-405d-4b86-a714-876bf7e77e96"
      },
      "source": [
        "plot_model_history(history)"
      ],
      "execution_count": null,
      "outputs": [
        {
          "output_type": "stream",
          "text": [
            "/usr/local/lib/python3.7/dist-packages/ipykernel_launcher.py:8: MatplotlibDeprecationWarning: Passing the minor parameter of set_xticks() positionally is deprecated since Matplotlib 3.2; the parameter will become keyword-only two minor releases later.\n",
            "  \n",
            "/usr/local/lib/python3.7/dist-packages/ipykernel_launcher.py:14: MatplotlibDeprecationWarning: Passing the minor parameter of set_xticks() positionally is deprecated since Matplotlib 3.2; the parameter will become keyword-only two minor releases later.\n",
            "  \n"
          ],
          "name": "stderr"
        },
        {
          "output_type": "display_data",
          "data": {
            "image/png": "[encoded data removed]",
            "text/plain": [
              "<Figure size 1080x360 with 2 Axes>"
            ]
          },
          "metadata": {
            "tags": [],
            "needs_background": "light"
          }
        }
      ]
    },
    {
      "cell_type": "code",
      "metadata": {
        "id": "ZKO-T9f2aoR1",
        "colab": {
          "base_uri": "https://localhost:8080/"
        },
        "outputId": "6f7dccba-a703-4d26-cfcb-7338f1249b84"
      },
      "source": [
        "test_gen = ImageDataGenerator(rescale=1./255)\n",
        "test_generator = test_gen.flow_from_dataframe(\n",
        "    test_data, \n",
        "    imageset_dir,\n",
        "    x_col='filename',\n",
        "    y_col=None,\n",
        "    class_mode=None,\n",
        "    target_size=(size[0], size[1]),\n",
        "    batch_size=4,\n",
        "    shuffle=False\n",
        ")"
      ],
      "execution_count": null,
      "outputs": [
        {
          "output_type": "stream",
          "text": [
            "Found 40 validated image filenames.\n"
          ],
          "name": "stdout"
        }
      ]
    },
    {
      "cell_type": "code",
      "metadata": {
        "id": "bg7D031Vaqx1"
      },
      "source": [
        "predict = model.predict(test_generator, steps=np.ceil(test_data.shape[0]/4))\n",
        "predict_round=np.round(predict)\n",
        "# print(predict_round)"
      ],
      "execution_count": null,
      "outputs": []
    },
    {
      "cell_type": "code",
      "metadata": {
        "id": "M_vIQAkJas98",
        "colab": {
          "base_uri": "https://localhost:8080/"
        },
        "outputId": "896e3374-f2a6-440a-9eca-9e4f37f1cc7c"
      },
      "source": [
        "test_data = test_data.replace('Covid19', 0).replace('Normal', 1) \n",
        "labels = ['Normal','Covid19']\n",
        "print(classification_report(y_true=test_data.category, y_pred=predict_round[:,[1]],target_names=labels))"
      ],
      "execution_count": null,
      "outputs": [
        {
          "output_type": "stream",
          "text": [
            "              precision    recall  f1-score   support\n",
            "\n",
            "      Normal       1.00      1.00      1.00        20\n",
            "     Covid19       1.00      1.00      1.00        20\n",
            "\n",
            "    accuracy                           1.00        40\n",
            "   macro avg       1.00      1.00      1.00        40\n",
            "weighted avg       1.00      1.00      1.00        40\n",
            "\n"
          ],
          "name": "stdout"
        }
      ]
    },
    {
      "cell_type": "code",
      "metadata": {
        "id": "0iUfsLufau0U",
        "colab": {
          "base_uri": "https://localhost:8080/",
          "height": 414
        },
        "outputId": "2bbb0217-0f41-46fc-9c92-aaa42f61471c"
      },
      "source": [
        "cm= confusion_matrix(y_true=test_data.category, y_pred=predict_round[:,[1]])\n",
        "plt.figure(figsize=(10, 6))\n",
        "sns.heatmap(cm, annot=True, linewidths=0.05, fmt= '.1f',xticklabels=labels, yticklabels=labels)\n",
        "plt.title(\"Confusion Matrix\", fontsize = 20)\n",
        "plt.ylabel(\"Real\",fontsize = 15)\n",
        "plt.xlabel(\"Predicted\",fontsize = 15)\n",
        "plt.tick_params(labelsize = 10)\n",
        "plt.show()"
      ],
      "execution_count": null,
      "outputs": [
        {
          "output_type": "display_data",
          "data": {
            "image/png": "[encoded data removed]",
            "text/plain": [
              "<Figure size 720x432 with 2 Axes>"
            ]
          },
          "metadata": {
            "tags": [],
            "needs_background": "light"
          }
        }
      ]
    }
  ]
}